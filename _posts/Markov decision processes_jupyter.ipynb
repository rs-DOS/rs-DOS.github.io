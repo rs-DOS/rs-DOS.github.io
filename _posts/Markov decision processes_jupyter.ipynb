{
 "cells": [
  {
   "cell_type": "markdown",
   "metadata": {},
   "source": [
    "Markov decision process is a mathematical tool for modelling stochastic control problems. Another way to look at them is that they can be used for \n",
    "sequential decision making. Sidenote: There is a [great lecture series on YouTube](https://www.youtube.com/watch?v=2pWv7GOvuf0&list=PLqYmG7hTraZDM-OYHWgPebj2MfCFzFObQ) by David Silver which explains MDPs and how they are used in reinforcement learning.\n",
    "<br>\n",
    "A key assumption is that all the states follow the *Markov* property which basically states that the future is independent of the past given the present."
   ]
  },
  {
   "cell_type": "markdown",
   "metadata": {},
   "source": [
    "## Defining MDPs\n",
    "An MDP is a 4-tuple *M* : \n",
    "*M* = (*S* ,*A* ,*P<sub>a</sub>* ,*R<sub>a</sub>*) <br>\n",
    "* *S* is the state space\n",
    "* *A* is the action space\n",
    "* *P<sub>a</sub>(*s* ,*s'*)* is the probability of going from state *s* to *s'*\n",
    "* *R<sub>a</sub>(*s* ,*s'*)* is the reward for going form state *s* to *s'*\n",
    "\n",
    "Sometimes a discount factor is added to the problem definition to model the variance associated with time horizons. Basically &gamma; models how much we care\n",
    "about short-term rewards (&gamma; = 0) and long term rewards (&gamma; =1)"
   ]
  },
  {
   "cell_type": "markdown",
   "metadata": {},
   "source": [
    "## MDPs for inventory control\n",
    "[Adapated from 6.246 Reinforcement Learning: Foundations and Methods — Lec3 — 1](https://web.mit.edu/6.246/www/notes/L3-notes.pdf)<br>\n",
    "A common question in supply chain management is when and by how much to replenish the shelves in a store. Replenishment can be thought of as an stochatic control problem. <br>\n",
    "<img src=\"\\assets\\warehouse manager.jpg\" width=\"200\" height=\"200\" /><br>\n",
    "\n",
    "Let's say that you are a warehouse manager looking after just one SKU (stock keeping unit).You review the inventory at the end of each month and decide how much inventory to order.\n",
    "There is a cost associated with maintaining some inventory in the warehouse *h(s)*, with ordering inventory *C(a)*. Selling the items earns you an income of *f(q)*. If the demand is greater than the available inventory then the customer leaves your store to never come back i.e there are no backorders. Only constraint that we are considering now is maximum capacity of the warehouse *M*. <br>\n",
    "\n",
    "**State space** - *s* ∈ *S* = {0, 1, ...., M} which is the number of goods we can store in our warehouse; constrained by maximum capacity of the warehouse <br>\n",
    "**Action space** - For a state *s*, *a* ∈ *A(s)* = {0, 1, ..., M − s}. Action space depends on the current state as we cannot order more than the capacity of the warehouse. Basically the only action the warehouse manager can take is choosing how much to order <br>\n",
    "**Reward** - *r<sub>t</sub>* = - *C(a<sub>t</sub>)* - *h(s<sub>t</sub> + a<sub>t</sub>)*  + *f([s<sub>t</sub> + a<sub>t</sub> - s<sub>t - 1</sub>]<sup>+</sup>)*  <br>"
   ]
  },
  {
   "cell_type": "markdown",
   "metadata": {},
   "source": [
    "### A simple inventory example\n",
    "Let us assume that we are responsible to controlling the inventory for a particular \"Widget\". We review the inventory every day. Every day the  demand for our particular \"widget\" is a random variable that follows the poisson distribution. "
   ]
  },
  {
   "cell_type": "code",
   "execution_count": 8,
   "metadata": {},
   "outputs": [
    {
     "name": "stdout",
     "output_type": "stream",
     "text": [
      "Die(sides = 6)\n"
     ]
    }
   ],
   "source": [
    "from abc import ABC, abstractmethod\n",
    "\n",
    "class Distribution(ABC):\n",
    "    @abstractmethod\n",
    "    def sample(self):\n",
    "        pass\n",
    "\n",
    "import random\n",
    "class Die(Distribution):\n",
    "        def __init__(self,sides):\n",
    "             self.sides = sides\n",
    "\n",
    "        def __repr__(self):\n",
    "            return f\"Die(sides = {self.sides})\"\n",
    "\n",
    "        def sample(self):\n",
    "          return random.randint(1,self.sides)\n",
    "\n",
    "\n",
    "\n",
    "six_sided = Die(6)\n",
    "def roll_dice():\n",
    "    return six_sided.sample() + six_sided.sample()         \n",
    "\n",
    "print(Die(6))           "
   ]
  },
  {
   "cell_type": "code",
   "execution_count": 1,
   "metadata": {},
   "outputs": [],
   "source": [
    "from __future__ import annotations\n",
    "\n",
    "from abc import ABC, abstractmethod\n",
    "from collections import Counter, defaultdict\n",
    "from dataclasses import dataclass\n",
    "import numpy as np\n",
    "import random\n",
    "from typing import (Callable, Dict, Generic, Iterator, Iterable, Mapping, Optional, Sequence, Tuple, TypeVar)\n",
    "\n",
    "A = TypeVar('A')\n",
    "B = TypeVar('B')\n",
    "\n",
    "class Distribution(ABC, Generic[A]):\n",
    "    \"\"\"A probability distribution that we can sample\"\"\"\n",
    "    @abstractmethod\n",
    "    def sample(self) -> A:\n",
    "        \"\"\"Return a random sample from this distribution.\"\"\"\n",
    "        pass\n",
    "    def sample_n(self,n:int) -> Sequence[A]:\n",
    "        \"\"\"Return n samples from this distribution\"\"\"\n",
    "        return [self.sample() for _ in range(n)]\n",
    "    @abstractmethod\n",
    "    def expectation(self, f:Callable[[A],float]) -> float:\n",
    "        \"\"\"Return the expecation of f(x) where X is the random variable for the distribution and f is an arbitrary function from X to float\"\"\"\n",
    "        pass\n",
    "    def map(self,f:Callable[[A],B]) -> Distribution[B]:\n",
    "        \"\"\"Apply a function to the outcome of this distribution.\"\"\"\n",
    "        return SampledDistribution(lambda: f(self.sample()))\n",
    "    def apply(self,f:Callable[[A],Distribution[B]]) -> Distribution[B]:\n",
    "        \"\"\"Apply a function that returns a distribution to the outcomes of this distribution. This lets us express *dependent random variables*\"\"\"\n",
    "        def sample():\n",
    "            a = self.sample()\n",
    "            b_dist = f(a)\n",
    "            return b_dist.sample()\n",
    "        return SampledDistribution(sample)     \n",
    "\n",
    "\n",
    "    class SampledDistribution(Distribution[A]):\n",
    "        \"\"\"Distribution defined by a function to sample it\"\"\"\n",
    "        sampler: Callable[[],A]\n",
    "        expectation_samples: int\n",
    "\n",
    "        def __init__(self, sampler: Callable[[],A],expectation_samples: int = 10000):\n",
    "            self.sampler = sampler\n",
    "            self.expectation_samples = expectation_samples\n",
    "        def sample(self) -> A:\n",
    "            return self.sampler()           \n",
    "        def expectation(self, f:Callable[[A],float]) -> float:\n",
    "            \"\"\"Return a sampled approximation of the expectation of f(x) for some f.\"\"\"\n",
    "            return sum(f(self.sample()) for _ in range(self.expectation_samples))/self.expectation_samples    \n",
    "        \n",
    "\n",
    "\n",
    "         \n",
    "\n",
    "\n",
    "\n"
   ]
  }
 ],
 "metadata": {
  "interpreter": {
   "hash": "1e915f0a29dc84041eaeb02b7b1a21c440e37a87b61d44d5e84a515737dc82bc"
  },
  "kernelspec": {
   "display_name": "Python 3.8.3 64-bit ('base': conda)",
   "language": "python",
   "name": "python3"
  },
  "language_info": {
   "codemirror_mode": {
    "name": "ipython",
    "version": 3
   },
   "file_extension": ".py",
   "mimetype": "text/x-python",
   "name": "python",
   "nbconvert_exporter": "python",
   "pygments_lexer": "ipython3",
   "version": "3.8.3"
  },
  "orig_nbformat": 4
 },
 "nbformat": 4,
 "nbformat_minor": 2
}
